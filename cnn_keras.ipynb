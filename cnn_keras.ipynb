{
 "cells": [
  {
   "cell_type": "code",
   "execution_count": 1,
   "metadata": {},
   "outputs": [],
   "source": [
    "import os, shutil"
   ]
  },
  {
   "cell_type": "code",
   "execution_count": 2,
   "metadata": {},
   "outputs": [],
   "source": [
    "dataset_directory = '/Users/rajaraju/Downloads/Birds/'"
   ]
  },
  {
   "cell_type": "code",
   "execution_count": 5,
   "metadata": {},
   "outputs": [],
   "source": [
    "base_directory = '/Users/rajaraju/Downloads/cuckoo_and_sparrow'\n",
    "os.mkdir(base_directory)"
   ]
  },
  {
   "cell_type": "code",
   "execution_count": 13,
   "metadata": {},
   "outputs": [],
   "source": [
    "# train_dir = os.path.join(base_directory,'train')\n",
    "# os.mkdir(train_dir)\n",
    "\n",
    "# test_dir = os.path.join(base_directory,'test')\n",
    "# os.mkdir(test_dir)\n",
    "\n",
    "# train_cuckoo_dir = os.path.join(train_dir, 'cuckoo')\n",
    "# os.mkdir(train_cuckoo_dir)\n",
    "\n",
    "# train_sparrow_dir = os.path.join(train_dir, 'sparrow')\n",
    "# os.mkdir(train_sparrow_dir)\n",
    "\n",
    "# test_cuckoo_dir = os.path.join(test_dir, 'cuckoo')\n",
    "# os.mkdir(test_cuckoo_dir)\n",
    "\n",
    "# test_sparrow_dir = os.path.join(test_dir, 'sparrow')\n",
    "# os.mkdir(test_sparrow_dir)\n",
    "\n",
    "\n",
    "DOWNLOAD_DIR = '/Users/rajaraju/Downloads/Birds/'\n",
    "BASE_DIR = '/Users/rajaraju/Downloads/birds_classes'\n",
    "\n",
    "def data_directory(class_labels):\n",
    "    \"\"\" \n",
    "        Creates the folder structure for Training, Validation and Test data and Class Labels.\n",
    "        \n",
    "        Parameters:\n",
    "        class_labels : Names of the classes, for example: cats, dogs, horses.   \n",
    "    \"\"\" \n",
    "    dataset_folders = ['train','validation','test']\n",
    "    object_class = class_labels\n",
    "    os.mkdir(BASE_DIR)\n",
    "    \n",
    "    for folder in dataset_folders:\n",
    "        for obj_cls in object_class:\n",
    "            training_dir = BASE_DIR + os.sep +'{}'.format(folder)\n",
    "            if not os.path.exists(BASE_DIR + os.sep +'{}'.format(folder)):\n",
    "                os.mkdir(training_dir)\n",
    "            class_dir = training_dir + os.sep + '{}'.format(obj_cls)\n",
    "            if not os.path.exists(training_dir + os.sep + '{}'.format(obj_cls)):\n",
    "                os.mkdir(class_dir)\n",
    "\n"
   ]
  },
  {
   "cell_type": "code",
   "execution_count": 45,
   "metadata": {},
   "outputs": [],
   "source": [
    "filenames = ['cuckoo{}.jpg'.format(i) for i in range(1,16)]\n",
    "for i,filename in enumerate(filenames):\n",
    "    src = os.path.join(dataset_directory + 'cuckoo', 'pic{}.jpg'.format(i+1))\n",
    "    dst = os.path.join(train_cuckoo_dir, filename)\n",
    "    shutil.copyfile(src,dst)\n",
    "    \n",
    "filenames = ['cuckoo{}.jpg'.format(i) for i in range(16,21)]\n",
    "for i,filename in enumerate(filenames):\n",
    "    src = os.path.join(dataset_directory + 'cuckoo', 'pic{}.jpg'.format(i+16))\n",
    "    dst = os.path.join(test_cuckoo_dir, filename)\n",
    "    shutil.copyfile(src,dst)\n",
    "    \n",
    "filenames = ['sparrow{}.jpg'.format(i) for i in range(1,16)]\n",
    "for i,filename in enumerate(filenames):\n",
    "    src = os.path.join(dataset_directory + 'sparrow', 'pic{}.jpg'.format(i+1))\n",
    "    dst = os.path.join(train_sparrow_dir, filename)\n",
    "    shutil.copyfile(src,dst)\n",
    "    \n",
    "filenames = ['sparrow{}.jpg'.format(i) for i in range(16,21)]\n",
    "for i,filename in enumerate(filenames):\n",
    "    src = os.path.join(dataset_directory + 'sparrow', 'pic{}.jpg'.format(i+16))\n",
    "    dst = os.path.join(test_sparrow_dir, filename)\n",
    "    shutil.copyfile(src,dst)"
   ]
  },
  {
   "cell_type": "code",
   "execution_count": 54,
   "metadata": {},
   "outputs": [],
   "source": [
    "from keras import layers\n",
    "from keras import models"
   ]
  },
  {
   "cell_type": "code",
   "execution_count": 55,
   "metadata": {},
   "outputs": [
    {
     "name": "stdout",
     "output_type": "stream",
     "text": [
      "WARNING:tensorflow:From /Users/rajaraju/.virtualenvs/DeepLearning/lib/python3.5/site-packages/keras/backend/tensorflow_backend.py:1205: calling reduce_prod (from tensorflow.python.ops.math_ops) with keep_dims is deprecated and will be removed in a future version.\n",
      "Instructions for updating:\n",
      "keep_dims is deprecated, use keepdims instead\n"
     ]
    }
   ],
   "source": [
    "model = models.Sequential()\n",
    "model.add(layers.Conv2D(32,(3,3), activation='relu',input_shape=(150,150,3)))\n",
    "model.add(layers.MaxPool2D((2,2)))\n",
    "model.add(layers.Conv2D(64,(3,3),activation='relu'))\n",
    "model.add(layers.MaxPool2D((2,2)))\n",
    "model.add(layers.Conv2D(128,(3,3),activation='relu'))\n",
    "model.add(layers.MaxPool2D((2,2)))\n",
    "model.add(layers.Conv2D(128,(3,3),activation='relu'))\n",
    "model.add(layers.MaxPool2D((2,2)))\n",
    "model.add(layers.Flatten())\n",
    "model.add(layers.Dense(512,activation='relu'))\n",
    "model.add(layers.Dense(1,activation='sigmoid'))"
   ]
  },
  {
   "cell_type": "code",
   "execution_count": 57,
   "metadata": {},
   "outputs": [
    {
     "name": "stdout",
     "output_type": "stream",
     "text": [
      "_________________________________________________________________\n",
      "Layer (type)                 Output Shape              Param #   \n",
      "=================================================================\n",
      "conv2d_1 (Conv2D)            (None, 148, 148, 32)      896       \n",
      "_________________________________________________________________\n",
      "max_pooling2d_1 (MaxPooling2 (None, 74, 74, 32)        0         \n",
      "_________________________________________________________________\n",
      "conv2d_2 (Conv2D)            (None, 72, 72, 64)        18496     \n",
      "_________________________________________________________________\n",
      "max_pooling2d_2 (MaxPooling2 (None, 36, 36, 64)        0         \n",
      "_________________________________________________________________\n",
      "conv2d_3 (Conv2D)            (None, 34, 34, 128)       73856     \n",
      "_________________________________________________________________\n",
      "max_pooling2d_3 (MaxPooling2 (None, 17, 17, 128)       0         \n",
      "_________________________________________________________________\n",
      "conv2d_4 (Conv2D)            (None, 15, 15, 128)       147584    \n",
      "_________________________________________________________________\n",
      "max_pooling2d_4 (MaxPooling2 (None, 7, 7, 128)         0         \n",
      "_________________________________________________________________\n",
      "flatten_1 (Flatten)          (None, 6272)              0         \n",
      "_________________________________________________________________\n",
      "dense_1 (Dense)              (None, 512)               3211776   \n",
      "_________________________________________________________________\n",
      "dense_2 (Dense)              (None, 1)                 513       \n",
      "=================================================================\n",
      "Total params: 3,453,121\n",
      "Trainable params: 3,453,121\n",
      "Non-trainable params: 0\n",
      "_________________________________________________________________\n"
     ]
    }
   ],
   "source": [
    "model.summary()"
   ]
  },
  {
   "cell_type": "code",
   "execution_count": 58,
   "metadata": {},
   "outputs": [],
   "source": [
    "from keras import optimizers"
   ]
  },
  {
   "cell_type": "code",
   "execution_count": 59,
   "metadata": {},
   "outputs": [
    {
     "name": "stdout",
     "output_type": "stream",
     "text": [
      "WARNING:tensorflow:From /Users/rajaraju/.virtualenvs/DeepLearning/lib/python3.5/site-packages/keras/backend/tensorflow_backend.py:1290: calling reduce_mean (from tensorflow.python.ops.math_ops) with keep_dims is deprecated and will be removed in a future version.\n",
      "Instructions for updating:\n",
      "keep_dims is deprecated, use keepdims instead\n"
     ]
    }
   ],
   "source": [
    "model.compile(loss='binary_crossentropy',\n",
    "             optimizer=optimizers.RMSprop(lr=1e-4),\n",
    "             metrics=['acc'])"
   ]
  },
  {
   "cell_type": "code",
   "execution_count": 60,
   "metadata": {},
   "outputs": [],
   "source": [
    "from keras.preprocessing.image import ImageDataGenerator"
   ]
  },
  {
   "cell_type": "code",
   "execution_count": 103,
   "metadata": {},
   "outputs": [
    {
     "name": "stdout",
     "output_type": "stream",
     "text": [
      "Found 30 images belonging to 2 classes.\n",
      "Found 10 images belonging to 2 classes.\n"
     ]
    }
   ],
   "source": [
    "train_data = ImageDataGenerator(rescale=1./255,shear_range=0.2,zoom_range=0.2,horizontal_flip=True)\n",
    "test_data =ImageDataGenerator(rescale=1./255)\n",
    "\n",
    "train_generator = train_data.flow_from_directory(\n",
    "                    train_dir, target_size=(150,150),\n",
    "                    batch_size=5,\n",
    "                    class_mode='binary')\n",
    "\n",
    "test_generator = test_data.flow_from_directory(\n",
    "                    test_dir, target_size=(150,150),\n",
    "                    batch_size=5,\n",
    "                    class_mode='binary')\n"
   ]
  },
  {
   "cell_type": "code",
   "execution_count": 104,
   "metadata": {},
   "outputs": [
    {
     "name": "stdout",
     "output_type": "stream",
     "text": [
      "data batch shape: (5, 150, 150, 3)\n",
      "labels batch shape: (5,)\n"
     ]
    }
   ],
   "source": [
    "for data_batch, labels_batch in train_generator:\n",
    "    print('data batch shape:',data_batch.shape)\n",
    "    print('labels batch shape:',labels_batch.shape)\n",
    "    break"
   ]
  },
  {
   "cell_type": "code",
   "execution_count": 105,
   "metadata": {},
   "outputs": [
    {
     "data": {
      "text/plain": [
       "(5, 150, 150, 3)"
      ]
     },
     "execution_count": 105,
     "metadata": {},
     "output_type": "execute_result"
    }
   ],
   "source": [
    "data_batch.shape"
   ]
  },
  {
   "cell_type": "code",
   "execution_count": 106,
   "metadata": {},
   "outputs": [
    {
     "data": {
      "text/plain": [
       "(5,)"
      ]
     },
     "execution_count": 106,
     "metadata": {},
     "output_type": "execute_result"
    }
   ],
   "source": [
    "labels_batch.shape"
   ]
  },
  {
   "cell_type": "code",
   "execution_count": 107,
   "metadata": {},
   "outputs": [
    {
     "name": "stderr",
     "output_type": "stream",
     "text": [
      "/Users/rajaraju/.virtualenvs/DeepLearning/lib/python3.5/site-packages/ipykernel_launcher.py:6: UserWarning: The semantics of the Keras 2 argument `steps_per_epoch` is not the same as the Keras 1 argument `samples_per_epoch`. `steps_per_epoch` is the number of batches to draw from the generator at each epoch. Basically steps_per_epoch = samples_per_epoch/batch_size. Similarly `nb_val_samples`->`validation_steps` and `val_samples`->`steps` arguments have changed. Update your method calls accordingly.\n",
      "  \n",
      "/Users/rajaraju/.virtualenvs/DeepLearning/lib/python3.5/site-packages/ipykernel_launcher.py:6: UserWarning: Update your `fit_generator` call to the Keras 2 API: `fit_generator(<keras.pre..., steps_per_epoch=3, epochs=30, validation_steps=5, validation_data=<keras.pre...)`\n",
      "  \n"
     ]
    },
    {
     "name": "stdout",
     "output_type": "stream",
     "text": [
      "Epoch 1/30\n",
      "3/3 [==============================] - 2s - loss: 1.7234 - acc: 0.8000 - val_loss: 0.5665 - val_acc: 0.8000\n",
      "Epoch 2/30\n",
      "3/3 [==============================] - 2s - loss: 0.0639 - acc: 0.9333 - val_loss: 1.2945 - val_acc: 0.4800\n",
      "Epoch 3/30\n",
      "3/3 [==============================] - 2s - loss: 0.1000 - acc: 0.9333 - val_loss: 0.6200 - val_acc: 0.6800\n",
      "Epoch 4/30\n",
      "3/3 [==============================] - 2s - loss: 0.4035 - acc: 0.8667 - val_loss: 0.7224 - val_acc: 0.6800\n",
      "Epoch 5/30\n",
      "3/3 [==============================] - 2s - loss: 0.1786 - acc: 0.9333 - val_loss: 1.5424 - val_acc: 0.6400\n",
      "Epoch 6/30\n",
      "3/3 [==============================] - 2s - loss: 0.7399 - acc: 0.7333 - val_loss: 1.2334 - val_acc: 0.6400\n",
      "Epoch 7/30\n",
      "3/3 [==============================] - 2s - loss: 0.1486 - acc: 0.9333 - val_loss: 0.6820 - val_acc: 0.7200\n",
      "Epoch 8/30\n",
      "3/3 [==============================] - 2s - loss: 0.3513 - acc: 0.8667 - val_loss: 0.8570 - val_acc: 0.6800\n",
      "Epoch 9/30\n",
      "3/3 [==============================] - 2s - loss: 0.2248 - acc: 0.8667 - val_loss: 0.8334 - val_acc: 0.7200\n",
      "Epoch 10/30\n",
      "3/3 [==============================] - 2s - loss: 0.2228 - acc: 0.8000 - val_loss: 0.8050 - val_acc: 0.6000\n",
      "Epoch 11/30\n",
      "3/3 [==============================] - 2s - loss: 0.2505 - acc: 0.7333 - val_loss: 0.6755 - val_acc: 0.8000\n",
      "Epoch 12/30\n",
      "3/3 [==============================] - 2s - loss: 0.0380 - acc: 1.0000 - val_loss: 0.9597 - val_acc: 0.6800\n",
      "Epoch 13/30\n",
      "3/3 [==============================] - 2s - loss: 0.1137 - acc: 0.9333 - val_loss: 0.8026 - val_acc: 0.6800\n",
      "Epoch 14/30\n",
      "3/3 [==============================] - 2s - loss: 0.1610 - acc: 0.9333 - val_loss: 0.8062 - val_acc: 0.6400\n",
      "Epoch 15/30\n",
      "3/3 [==============================] - 2s - loss: 0.1379 - acc: 1.0000 - val_loss: 1.0525 - val_acc: 0.6400\n",
      "Epoch 16/30\n",
      "3/3 [==============================] - 2s - loss: 0.0497 - acc: 1.0000 - val_loss: 0.9100 - val_acc: 0.6800\n",
      "Epoch 17/30\n",
      "3/3 [==============================] - 2s - loss: 0.0368 - acc: 1.0000 - val_loss: 0.8616 - val_acc: 0.7200\n",
      "Epoch 18/30\n",
      "3/3 [==============================] - 2s - loss: 0.0535 - acc: 1.0000 - val_loss: 0.8230 - val_acc: 0.6800\n",
      "Epoch 19/30\n",
      "3/3 [==============================] - 2s - loss: 0.0407 - acc: 1.0000 - val_loss: 1.1779 - val_acc: 0.6800\n",
      "Epoch 20/30\n",
      "3/3 [==============================] - 2s - loss: 0.1147 - acc: 0.9333 - val_loss: 1.9639 - val_acc: 0.5200\n",
      "Epoch 21/30\n",
      "3/3 [==============================] - 2s - loss: 0.0598 - acc: 1.0000 - val_loss: 0.9770 - val_acc: 0.6800\n",
      "Epoch 22/30\n",
      "3/3 [==============================] - 2s - loss: 0.0303 - acc: 1.0000 - val_loss: 0.7899 - val_acc: 0.7600\n",
      "Epoch 23/30\n",
      "3/3 [==============================] - 2s - loss: 0.0124 - acc: 1.0000 - val_loss: 0.8502 - val_acc: 0.6800\n",
      "Epoch 24/30\n",
      "3/3 [==============================] - 2s - loss: 0.3761 - acc: 0.8667 - val_loss: 1.4530 - val_acc: 0.6000\n",
      "Epoch 25/30\n",
      "3/3 [==============================] - 2s - loss: 0.0876 - acc: 1.0000 - val_loss: 1.0372 - val_acc: 0.6800\n",
      "Epoch 26/30\n",
      "3/3 [==============================] - 2s - loss: 0.1557 - acc: 0.9333 - val_loss: 1.1138 - val_acc: 0.6000\n",
      "Epoch 27/30\n",
      "3/3 [==============================] - 2s - loss: 0.0289 - acc: 1.0000 - val_loss: 1.0950 - val_acc: 0.6000\n",
      "Epoch 28/30\n",
      "3/3 [==============================] - 2s - loss: 0.0083 - acc: 1.0000 - val_loss: 1.1759 - val_acc: 0.5600\n",
      "Epoch 29/30\n",
      "3/3 [==============================] - 2s - loss: 0.0189 - acc: 1.0000 - val_loss: 0.9150 - val_acc: 0.6000\n",
      "Epoch 30/30\n",
      "3/3 [==============================] - 2s - loss: 0.0102 - acc: 1.0000 - val_loss: 1.1591 - val_acc: 0.6800\n"
     ]
    }
   ],
   "source": [
    "history = model.fit_generator(\n",
    "            train_generator,\n",
    "            steps_per_epoch=3,\n",
    "            epochs=30,\n",
    "            validation_data=test_generator,\n",
    "            nb_val_samples=5)"
   ]
  },
  {
   "cell_type": "code",
   "execution_count": 72,
   "metadata": {},
   "outputs": [],
   "source": [
    "model.save('cuckoo_and_sparrow_small_1.h5')"
   ]
  },
  {
   "cell_type": "code",
   "execution_count": null,
   "metadata": {},
   "outputs": [],
   "source": []
  },
  {
   "cell_type": "code",
   "execution_count": null,
   "metadata": {},
   "outputs": [],
   "source": []
  }
 ],
 "metadata": {
  "kernelspec": {
   "display_name": "Python 3",
   "language": "python",
   "name": "python3"
  },
  "language_info": {
   "codemirror_mode": {
    "name": "ipython",
    "version": 3
   },
   "file_extension": ".py",
   "mimetype": "text/x-python",
   "name": "python",
   "nbconvert_exporter": "python",
   "pygments_lexer": "ipython3",
   "version": "3.5.1"
  }
 },
 "nbformat": 4,
 "nbformat_minor": 2
}
