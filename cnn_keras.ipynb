{
 "cells": [
  {
   "cell_type": "code",
   "execution_count": 1,
   "metadata": {},
   "outputs": [],
   "source": [
    "import os, shutil"
   ]
  },
  {
   "cell_type": "code",
   "execution_count": 13,
   "metadata": {},
   "outputs": [],
   "source": [
    "# train_dir = os.path.join(base_directory,'train')\n",
    "# os.mkdir(train_dir)\n",
    "\n",
    "# test_dir = os.path.join(base_directory,'test')\n",
    "# os.mkdir(test_dir)\n",
    "\n",
    "# train_cuckoo_dir = os.path.join(train_dir, 'cuckoo')\n",
    "# os.mkdir(train_cuckoo_dir)\n",
    "\n",
    "# train_sparrow_dir = os.path.join(train_dir, 'sparrow')\n",
    "# os.mkdir(train_sparrow_dir)\n",
    "\n",
    "# test_cuckoo_dir = os.path.join(test_dir, 'cuckoo')\n",
    "# os.mkdir(test_cuckoo_dir)\n",
    "\n",
    "# test_sparrow_dir = os.path.join(test_dir, 'sparrow')\n",
    "# os.mkdir(test_sparrow_dir)\n",
    "\n",
    "\n",
    "DOWNLOAD_DIR = '/Users/rajaraju/Downloads/Birds/'\n",
    "BASE_DIR = '/Users/rajaraju/Downloads/birds_classes'\n",
    "\n",
    "def data_directory(class_labels):\n",
    "    \"\"\" \n",
    "        Creates the folder structure for Training, Validation and Test data and Class Labels.\n",
    "        \n",
    "        Parameters:\n",
    "        class_labels : Names of the classes, for example: cats, dogs, horses.   \n",
    "    \"\"\" \n",
    "    dataset_folders = ['train','validation','test']\n",
    "    object_class = class_labels\n",
    "    os.mkdir(BASE_DIR)\n",
    "    \n",
    "    for folder in dataset_folders:\n",
    "        for obj_cls in object_class:\n",
    "            training_dir = BASE_DIR + os.sep +'{}'.format(folder)\n",
    "            if not os.path.exists(BASE_DIR + os.sep +'{}'.format(folder)):\n",
    "                os.mkdir(training_dir)\n",
    "            class_dir = training_dir + os.sep + '{}'.format(obj_cls)\n",
    "            if not os.path.exists(training_dir + os.sep + '{}'.format(obj_cls)):\n",
    "                os.mkdir(class_dir)\n"
   ]
  },
  {
   "cell_type": "code",
   "execution_count": 45,
   "metadata": {},
   "outputs": [],
   "source": [
    "filenames = ['cuckoo{}.jpg'.format(i) for i in range(1,16)]\n",
    "for i,filename in enumerate(filenames):\n",
    "    src = os.path.join(dataset_directory + 'cuckoo', 'pic{}.jpg'.format(i+1))\n",
    "    dst = os.path.join(train_cuckoo_dir, filename)\n",
    "    shutil.copyfile(src,dst)\n",
    "    \n",
    "filenames = ['cuckoo{}.jpg'.format(i) for i in range(16,21)]\n",
    "for i,filename in enumerate(filenames):\n",
    "    src = os.path.join(dataset_directory + 'cuckoo', 'pic{}.jpg'.format(i+16))\n",
    "    dst = os.path.join(test_cuckoo_dir, filename)\n",
    "    shutil.copyfile(src,dst)\n",
    "    \n",
    "filenames = ['sparrow{}.jpg'.format(i) for i in range(1,16)]\n",
    "for i,filename in enumerate(filenames):\n",
    "    src = os.path.join(dataset_directory + 'sparrow', 'pic{}.jpg'.format(i+1))\n",
    "    dst = os.path.join(train_sparrow_dir, filename)\n",
    "    shutil.copyfile(src,dst)\n",
    "    \n",
    "filenames = ['sparrow{}.jpg'.format(i) for i in range(16,21)]\n",
    "for i,filename in enumerate(filenames):\n",
    "    src = os.path.join(dataset_directory + 'sparrow', 'pic{}.jpg'.format(i+16))\n",
    "    dst = os.path.join(test_sparrow_dir, filename)\n",
    "    shutil.copyfile(src,dst)"
   ]
  },
  {
   "cell_type": "code",
   "execution_count": 54,
   "metadata": {},
   "outputs": [],
   "source": [
    "from keras import layers\n",
    "from keras import models"
   ]
  },
  {
   "cell_type": "code",
   "execution_count": 55,
   "metadata": {},
   "outputs": [
    {
     "name": "stdout",
     "output_type": "stream",
     "text": [
      "WARNING:tensorflow:From /Users/rajaraju/.virtualenvs/DeepLearning/lib/python3.5/site-packages/keras/backend/tensorflow_backend.py:1205: calling reduce_prod (from tensorflow.python.ops.math_ops) with keep_dims is deprecated and will be removed in a future version.\n",
      "Instructions for updating:\n",
      "keep_dims is deprecated, use keepdims instead\n"
     ]
    }
   ],
   "source": [
    "model = models.Sequential()\n",
    "model.add(layers.Conv2D(32,(3,3), activation='relu',input_shape=(150,150,3)))\n",
    "model.add(layers.MaxPool2D((2,2)))\n",
    "model.add(layers.Conv2D(64,(3,3),activation='relu'))\n",
    "model.add(layers.MaxPool2D((2,2)))\n",
    "model.add(layers.Conv2D(128,(3,3),activation='relu'))\n",
    "model.add(layers.MaxPool2D((2,2)))\n",
    "model.add(layers.Conv2D(128,(3,3),activation='relu'))\n",
    "model.add(layers.MaxPool2D((2,2)))\n",
    "model.add(layers.Flatten())\n",
    "model.add(layers.Dense(512,activation='relu'))\n",
    "model.add(layers.Dense(1,activation='sigmoid'))"
   ]
  },
  {
   "cell_type": "code",
   "execution_count": 57,
   "metadata": {},
   "outputs": [
    {
     "name": "stdout",
     "output_type": "stream",
     "text": [
      "_________________________________________________________________\n",
      "Layer (type)                 Output Shape              Param #   \n",
      "=================================================================\n",
      "conv2d_1 (Conv2D)            (None, 148, 148, 32)      896       \n",
      "_________________________________________________________________\n",
      "max_pooling2d_1 (MaxPooling2 (None, 74, 74, 32)        0         \n",
      "_________________________________________________________________\n",
      "conv2d_2 (Conv2D)            (None, 72, 72, 64)        18496     \n",
      "_________________________________________________________________\n",
      "max_pooling2d_2 (MaxPooling2 (None, 36, 36, 64)        0         \n",
      "_________________________________________________________________\n",
      "conv2d_3 (Conv2D)            (None, 34, 34, 128)       73856     \n",
      "_________________________________________________________________\n",
      "max_pooling2d_3 (MaxPooling2 (None, 17, 17, 128)       0         \n",
      "_________________________________________________________________\n",
      "conv2d_4 (Conv2D)            (None, 15, 15, 128)       147584    \n",
      "_________________________________________________________________\n",
      "max_pooling2d_4 (MaxPooling2 (None, 7, 7, 128)         0         \n",
      "_________________________________________________________________\n",
      "flatten_1 (Flatten)          (None, 6272)              0         \n",
      "_________________________________________________________________\n",
      "dense_1 (Dense)              (None, 512)               3211776   \n",
      "_________________________________________________________________\n",
      "dense_2 (Dense)              (None, 1)                 513       \n",
      "=================================================================\n",
      "Total params: 3,453,121\n",
      "Trainable params: 3,453,121\n",
      "Non-trainable params: 0\n",
      "_________________________________________________________________\n"
     ]
    }
   ],
   "source": [
    "model.summary()"
   ]
  },
  {
   "cell_type": "code",
   "execution_count": 58,
   "metadata": {},
   "outputs": [],
   "source": [
    "from keras import optimizers"
   ]
  },
  {
   "cell_type": "code",
   "execution_count": 59,
   "metadata": {},
   "outputs": [
    {
     "name": "stdout",
     "output_type": "stream",
     "text": [
      "WARNING:tensorflow:From /Users/rajaraju/.virtualenvs/DeepLearning/lib/python3.5/site-packages/keras/backend/tensorflow_backend.py:1290: calling reduce_mean (from tensorflow.python.ops.math_ops) with keep_dims is deprecated and will be removed in a future version.\n",
      "Instructions for updating:\n",
      "keep_dims is deprecated, use keepdims instead\n"
     ]
    }
   ],
   "source": [
    "model.compile(loss='binary_crossentropy',\n",
    "             optimizer=optimizers.RMSprop(lr=1e-4),\n",
    "             metrics=['acc'])"
   ]
  },
  {
   "cell_type": "code",
   "execution_count": 60,
   "metadata": {},
   "outputs": [],
   "source": [
    "from keras.preprocessing.image import ImageDataGenerator"
   ]
  },
  {
   "cell_type": "code",
   "execution_count": 103,
   "metadata": {},
   "outputs": [
    {
     "name": "stdout",
     "output_type": "stream",
     "text": [
      "Found 30 images belonging to 2 classes.\n",
      "Found 10 images belonging to 2 classes.\n"
     ]
    }
   ],
   "source": [
    "train_data = ImageDataGenerator(rescale=1./255,shear_range=0.2,zoom_range=0.2,horizontal_flip=True)\n",
    "test_data =ImageDataGenerator(rescale=1./255)\n",
    "\n",
    "train_generator = train_data.flow_from_directory(\n",
    "                    train_dir, target_size=(150,150),\n",
    "                    batch_size=5,\n",
    "                    class_mode='binary')\n",
    "\n",
    "test_generator = test_data.flow_from_directory(\n",
    "                    test_dir, target_size=(150,150),\n",
    "                    batch_size=5,\n",
    "                    class_mode='binary')\n"
   ]
  },
  {
   "cell_type": "code",
   "execution_count": 104,
   "metadata": {},
   "outputs": [
    {
     "name": "stdout",
     "output_type": "stream",
     "text": [
      "data batch shape: (5, 150, 150, 3)\n",
      "labels batch shape: (5,)\n"
     ]
    }
   ],
   "source": [
    "for data_batch, labels_batch in train_generator:\n",
    "    print('data batch shape:',data_batch.shape)\n",
    "    print('labels batch shape:',labels_batch.shape)\n",
    "    break"
   ]
  },
  {
   "cell_type": "code",
   "execution_count": 141,
   "metadata": {},
   "outputs": [
    {
     "name": "stderr",
     "output_type": "stream",
     "text": [
      "/Users/rajaraju/.virtualenvs/DeepLearning/lib/python3.5/site-packages/ipykernel_launcher.py:6: UserWarning: The semantics of the Keras 2 argument `steps_per_epoch` is not the same as the Keras 1 argument `samples_per_epoch`. `steps_per_epoch` is the number of batches to draw from the generator at each epoch. Basically steps_per_epoch = samples_per_epoch/batch_size. Similarly `nb_val_samples`->`validation_steps` and `val_samples`->`steps` arguments have changed. Update your method calls accordingly.\n",
      "  \n",
      "/Users/rajaraju/.virtualenvs/DeepLearning/lib/python3.5/site-packages/ipykernel_launcher.py:6: UserWarning: Update your `fit_generator` call to the Keras 2 API: `fit_generator(<keras.pre..., steps_per_epoch=3, epochs=100, validation_steps=5, validation_data=<keras.pre...)`\n",
      "  \n"
     ]
    },
    {
     "name": "stdout",
     "output_type": "stream",
     "text": [
      "Epoch 1/100\n",
      "3/3 [==============================] - 2s - loss: 0.0405 - acc: 1.0000 - val_loss: 1.0447 - val_acc: 0.7200\n",
      "Epoch 2/100\n",
      "3/3 [==============================] - 2s - loss: 0.0174 - acc: 1.0000 - val_loss: 0.9265 - val_acc: 0.7200\n",
      "Epoch 3/100\n",
      "3/3 [==============================] - 2s - loss: 0.0155 - acc: 1.0000 - val_loss: 1.4012 - val_acc: 0.6800\n",
      "Epoch 4/100\n",
      "3/3 [==============================] - 2s - loss: 0.0270 - acc: 1.0000 - val_loss: 2.3901 - val_acc: 0.6000\n",
      "Epoch 5/100\n",
      "3/3 [==============================] - 2s - loss: 0.0181 - acc: 1.0000 - val_loss: 1.2177 - val_acc: 0.7200\n",
      "Epoch 6/100\n",
      "3/3 [==============================] - 2s - loss: 0.0986 - acc: 0.9333 - val_loss: 1.3970 - val_acc: 0.6000\n",
      "Epoch 7/100\n",
      "3/3 [==============================] - 2s - loss: 0.1830 - acc: 0.9333 - val_loss: 1.1758 - val_acc: 0.7600\n",
      "Epoch 8/100\n",
      "3/3 [==============================] - 2s - loss: 0.0362 - acc: 1.0000 - val_loss: 1.0488 - val_acc: 0.6000\n",
      "Epoch 9/100\n",
      "3/3 [==============================] - 2s - loss: 0.0033 - acc: 1.0000 - val_loss: 0.9938 - val_acc: 0.7200\n",
      "Epoch 10/100\n",
      "3/3 [==============================] - 2s - loss: 0.0191 - acc: 1.0000 - val_loss: 1.3792 - val_acc: 0.6800\n",
      "Epoch 11/100\n",
      "3/3 [==============================] - 2s - loss: 0.0026 - acc: 1.0000 - val_loss: 1.1242 - val_acc: 0.7200\n",
      "Epoch 12/100\n",
      "3/3 [==============================] - 3s - loss: 0.1099 - acc: 0.9333 - val_loss: 2.3057 - val_acc: 0.4000\n",
      "Epoch 13/100\n",
      "3/3 [==============================] - 2s - loss: 0.1080 - acc: 0.9333 - val_loss: 1.4206 - val_acc: 0.6000\n",
      "Epoch 14/100\n",
      "3/3 [==============================] - 2s - loss: 0.0566 - acc: 1.0000 - val_loss: 1.5379 - val_acc: 0.6000\n",
      "Epoch 15/100\n",
      "3/3 [==============================] - 2s - loss: 0.0073 - acc: 1.0000 - val_loss: 1.2866 - val_acc: 0.6000\n",
      "Epoch 16/100\n",
      "3/3 [==============================] - 2s - loss: 0.0061 - acc: 1.0000 - val_loss: 1.6040 - val_acc: 0.6000\n",
      "Epoch 17/100\n",
      "3/3 [==============================] - 2s - loss: 0.0099 - acc: 1.0000 - val_loss: 1.4096 - val_acc: 0.6000\n",
      "Epoch 18/100\n",
      "3/3 [==============================] - 2s - loss: 0.0146 - acc: 1.0000 - val_loss: 1.5971 - val_acc: 0.6000\n",
      "Epoch 19/100\n",
      "3/3 [==============================] - 2s - loss: 0.0406 - acc: 1.0000 - val_loss: 1.6367 - val_acc: 0.6800\n",
      "Epoch 20/100\n",
      "3/3 [==============================] - 2s - loss: 0.0088 - acc: 1.0000 - val_loss: 1.2776 - val_acc: 0.6400\n",
      "Epoch 21/100\n",
      "3/3 [==============================] - 2s - loss: 0.0056 - acc: 1.0000 - val_loss: 1.3898 - val_acc: 0.7200\n",
      "Epoch 22/100\n",
      "3/3 [==============================] - 2s - loss: 0.0302 - acc: 1.0000 - val_loss: 1.6270 - val_acc: 0.8000\n",
      "Epoch 23/100\n",
      "3/3 [==============================] - 2s - loss: 0.1100 - acc: 0.9333 - val_loss: 2.0525 - val_acc: 0.4000\n",
      "Epoch 24/100\n",
      "3/3 [==============================] - 2s - loss: 0.0169 - acc: 1.0000 - val_loss: 1.7906 - val_acc: 0.6000\n",
      "Epoch 25/100\n",
      "3/3 [==============================] - 2s - loss: 0.0022 - acc: 1.0000 - val_loss: 1.7873 - val_acc: 0.6000\n",
      "Epoch 26/100\n",
      "3/3 [==============================] - 2s - loss: 0.0091 - acc: 1.0000 - val_loss: 1.8314 - val_acc: 0.6000\n",
      "Epoch 27/100\n",
      "3/3 [==============================] - 2s - loss: 0.4077 - acc: 0.8667 - val_loss: 2.6704 - val_acc: 0.3200\n",
      "Epoch 28/100\n",
      "3/3 [==============================] - 2s - loss: 0.2985 - acc: 0.9333 - val_loss: 1.1967 - val_acc: 0.6400\n",
      "Epoch 29/100\n",
      "3/3 [==============================] - 2s - loss: 0.0174 - acc: 1.0000 - val_loss: 1.6203 - val_acc: 0.5600\n",
      "Epoch 30/100\n",
      "3/3 [==============================] - 2s - loss: 0.0123 - acc: 1.0000 - val_loss: 1.5399 - val_acc: 0.6000\n",
      "Epoch 31/100\n",
      "3/3 [==============================] - 2s - loss: 0.0148 - acc: 1.0000 - val_loss: 1.2473 - val_acc: 0.6400\n",
      "Epoch 32/100\n",
      "3/3 [==============================] - 2s - loss: 0.0172 - acc: 1.0000 - val_loss: 1.4203 - val_acc: 0.5600\n",
      "Epoch 33/100\n",
      "3/3 [==============================] - 2s - loss: 0.0116 - acc: 1.0000 - val_loss: 1.6505 - val_acc: 0.7200\n",
      "Epoch 34/100\n",
      "3/3 [==============================] - 2s - loss: 0.0131 - acc: 1.0000 - val_loss: 1.3587 - val_acc: 0.6000\n",
      "Epoch 35/100\n",
      "3/3 [==============================] - 2s - loss: 0.0106 - acc: 1.0000 - val_loss: 1.7060 - val_acc: 0.7200\n",
      "Epoch 36/100\n",
      "3/3 [==============================] - 2s - loss: 0.0040 - acc: 1.0000 - val_loss: 1.7519 - val_acc: 0.7200\n",
      "Epoch 37/100\n",
      "3/3 [==============================] - 2s - loss: 0.0091 - acc: 1.0000 - val_loss: 1.7966 - val_acc: 0.6800\n",
      "Epoch 38/100\n",
      "3/3 [==============================] - 2s - loss: 0.0144 - acc: 1.0000 - val_loss: 1.3591 - val_acc: 0.7200\n",
      "Epoch 39/100\n",
      "3/3 [==============================] - 2s - loss: 5.3635e-04 - acc: 1.0000 - val_loss: 1.3747 - val_acc: 0.7200\n",
      "Epoch 40/100\n",
      "3/3 [==============================] - 2s - loss: 0.0111 - acc: 1.0000 - val_loss: 1.4390 - val_acc: 0.8000\n",
      "Epoch 41/100\n",
      "3/3 [==============================] - 2s - loss: 0.0087 - acc: 1.0000 - val_loss: 1.2724 - val_acc: 0.7600\n",
      "Epoch 42/100\n",
      "3/3 [==============================] - 2s - loss: 0.0037 - acc: 1.0000 - val_loss: 1.9645 - val_acc: 0.6800\n",
      "Epoch 43/100\n",
      "3/3 [==============================] - 2s - loss: 0.0024 - acc: 1.0000 - val_loss: 1.3918 - val_acc: 0.7200\n",
      "Epoch 44/100\n",
      "3/3 [==============================] - 2s - loss: 4.0079e-04 - acc: 1.0000 - val_loss: 1.7631 - val_acc: 0.7200\n",
      "Epoch 45/100\n",
      "3/3 [==============================] - 2s - loss: 0.0191 - acc: 1.0000 - val_loss: 1.8633 - val_acc: 0.6000\n",
      "Epoch 46/100\n",
      "3/3 [==============================] - 2s - loss: 0.0132 - acc: 1.0000 - val_loss: 1.9097 - val_acc: 0.6800\n",
      "Epoch 47/100\n",
      "3/3 [==============================] - 2s - loss: 0.0025 - acc: 1.0000 - val_loss: 2.1236 - val_acc: 0.6800\n",
      "Epoch 48/100\n",
      "3/3 [==============================] - 2s - loss: 0.0036 - acc: 1.0000 - val_loss: 1.4429 - val_acc: 0.7200\n",
      "Epoch 49/100\n",
      "3/3 [==============================] - 2s - loss: 0.0019 - acc: 1.0000 - val_loss: 1.4446 - val_acc: 0.6400\n",
      "Epoch 50/100\n",
      "3/3 [==============================] - 2s - loss: 0.0075 - acc: 1.0000 - val_loss: 2.1566 - val_acc: 0.6800\n",
      "Epoch 51/100\n",
      "3/3 [==============================] - 2s - loss: 0.0736 - acc: 0.9333 - val_loss: 3.6232 - val_acc: 0.4000\n",
      "Epoch 52/100\n",
      "3/3 [==============================] - 2s - loss: 0.0545 - acc: 0.9333 - val_loss: 2.2043 - val_acc: 0.6000\n",
      "Epoch 53/100\n",
      "3/3 [==============================] - 2s - loss: 0.0875 - acc: 1.0000 - val_loss: 2.6141 - val_acc: 0.5600\n",
      "Epoch 54/100\n",
      "3/3 [==============================] - 2s - loss: 0.0060 - acc: 1.0000 - val_loss: 2.1076 - val_acc: 0.6000\n",
      "Epoch 55/100\n",
      "3/3 [==============================] - 3s - loss: 0.0014 - acc: 1.0000 - val_loss: 1.7324 - val_acc: 0.6800\n",
      "Epoch 56/100\n",
      "3/3 [==============================] - 2s - loss: 0.0017 - acc: 1.0000 - val_loss: 1.9529 - val_acc: 0.6000\n",
      "Epoch 57/100\n",
      "3/3 [==============================] - 2s - loss: 0.0015 - acc: 1.0000 - val_loss: 2.1664 - val_acc: 0.6000\n",
      "Epoch 58/100\n",
      "3/3 [==============================] - 2s - loss: 0.0011 - acc: 1.0000 - val_loss: 2.2949 - val_acc: 0.5600\n",
      "Epoch 59/100\n",
      "3/3 [==============================] - 2s - loss: 8.8600e-04 - acc: 1.0000 - val_loss: 2.1126 - val_acc: 0.6400\n",
      "Epoch 60/100\n",
      "3/3 [==============================] - 2s - loss: 0.0958 - acc: 0.9333 - val_loss: 3.4070 - val_acc: 0.3200\n",
      "Epoch 61/100\n",
      "3/3 [==============================] - 2s - loss: 0.0687 - acc: 0.9333 - val_loss: 1.9860 - val_acc: 0.5600\n",
      "Epoch 62/100\n",
      "3/3 [==============================] - 2s - loss: 0.0032 - acc: 1.0000 - val_loss: 2.2426 - val_acc: 0.5600\n",
      "Epoch 63/100\n",
      "3/3 [==============================] - 2s - loss: 0.0016 - acc: 1.0000 - val_loss: 1.8523 - val_acc: 0.6000\n",
      "Epoch 64/100\n",
      "3/3 [==============================] - 2s - loss: 0.0011 - acc: 1.0000 - val_loss: 1.7657 - val_acc: 0.6400\n",
      "Epoch 65/100\n",
      "3/3 [==============================] - 2s - loss: 0.0041 - acc: 1.0000 - val_loss: 2.1720 - val_acc: 0.6000\n",
      "Epoch 66/100\n",
      "3/3 [==============================] - 2s - loss: 0.0036 - acc: 1.0000 - val_loss: 1.9688 - val_acc: 0.6000\n",
      "Epoch 67/100\n",
      "3/3 [==============================] - 2s - loss: 0.0028 - acc: 1.0000 - val_loss: 2.1011 - val_acc: 0.5600\n",
      "Epoch 68/100\n"
     ]
    },
    {
     "name": "stdout",
     "output_type": "stream",
     "text": [
      "3/3 [==============================] - 2s - loss: 0.0011 - acc: 1.0000 - val_loss: 1.9448 - val_acc: 0.6000\n",
      "Epoch 69/100\n",
      "3/3 [==============================] - 2s - loss: 0.0034 - acc: 1.0000 - val_loss: 2.3151 - val_acc: 0.6000\n",
      "Epoch 70/100\n",
      "3/3 [==============================] - 2s - loss: 0.0440 - acc: 1.0000 - val_loss: 2.1043 - val_acc: 0.6800\n",
      "Epoch 71/100\n",
      "3/3 [==============================] - 2s - loss: 0.0660 - acc: 0.9333 - val_loss: 2.1862 - val_acc: 0.6000\n",
      "Epoch 72/100\n",
      "3/3 [==============================] - 2s - loss: 0.0022 - acc: 1.0000 - val_loss: 2.5601 - val_acc: 0.5600\n",
      "Epoch 73/100\n",
      "3/3 [==============================] - 2s - loss: 0.0059 - acc: 1.0000 - val_loss: 2.0023 - val_acc: 0.6000\n",
      "Epoch 74/100\n",
      "3/3 [==============================] - 2s - loss: 0.0016 - acc: 1.0000 - val_loss: 2.4511 - val_acc: 0.6000\n",
      "Epoch 75/100\n",
      "3/3 [==============================] - 2s - loss: 0.0012 - acc: 1.0000 - val_loss: 2.4880 - val_acc: 0.6000\n",
      "Epoch 76/100\n",
      "3/3 [==============================] - 2s - loss: 0.0024 - acc: 1.0000 - val_loss: 1.9481 - val_acc: 0.6400\n",
      "Epoch 77/100\n",
      "3/3 [==============================] - 2s - loss: 8.6567e-04 - acc: 1.0000 - val_loss: 2.5674 - val_acc: 0.6000\n",
      "Epoch 78/100\n",
      "3/3 [==============================] - 2s - loss: 0.0040 - acc: 1.0000 - val_loss: 2.6243 - val_acc: 0.6000\n",
      "Epoch 79/100\n",
      "3/3 [==============================] - 2s - loss: 0.0014 - acc: 1.0000 - val_loss: 2.2251 - val_acc: 0.6000\n",
      "Epoch 80/100\n",
      "3/3 [==============================] - 2s - loss: 3.4474e-04 - acc: 1.0000 - val_loss: 2.0992 - val_acc: 0.6400\n",
      "Epoch 81/100\n",
      "3/3 [==============================] - 2s - loss: 0.0069 - acc: 1.0000 - val_loss: 2.3471 - val_acc: 0.6000\n",
      "Epoch 82/100\n",
      "3/3 [==============================] - 2s - loss: 0.0017 - acc: 1.0000 - val_loss: 2.2293 - val_acc: 0.6000\n",
      "Epoch 83/100\n",
      "3/3 [==============================] - 2s - loss: 0.0013 - acc: 1.0000 - val_loss: 2.4851 - val_acc: 0.6800\n",
      "Epoch 84/100\n",
      "3/3 [==============================] - 2s - loss: 3.9267e-04 - acc: 1.0000 - val_loss: 2.3819 - val_acc: 0.6800\n",
      "Epoch 85/100\n",
      "3/3 [==============================] - 2s - loss: 0.1001 - acc: 0.9333 - val_loss: 2.4542 - val_acc: 0.7200\n",
      "Epoch 86/100\n",
      "3/3 [==============================] - 2s - loss: 0.0028 - acc: 1.0000 - val_loss: 1.7949 - val_acc: 0.8400\n",
      "Epoch 87/100\n",
      "3/3 [==============================] - 2s - loss: 1.7984e-04 - acc: 1.0000 - val_loss: 2.6210 - val_acc: 0.7600\n",
      "Epoch 88/100\n",
      "3/3 [==============================] - 2s - loss: 0.0380 - acc: 1.0000 - val_loss: 2.9376 - val_acc: 0.5600\n",
      "Epoch 89/100\n",
      "3/3 [==============================] - 2s - loss: 0.0011 - acc: 1.0000 - val_loss: 2.3683 - val_acc: 0.5600\n",
      "Epoch 90/100\n",
      "3/3 [==============================] - 2s - loss: 9.2634e-05 - acc: 1.0000 - val_loss: 2.0753 - val_acc: 0.6400\n",
      "Epoch 91/100\n",
      "3/3 [==============================] - 2s - loss: 0.0019 - acc: 1.0000 - val_loss: 2.0044 - val_acc: 0.6800\n",
      "Epoch 92/100\n",
      "3/3 [==============================] - 2s - loss: 1.1913e-04 - acc: 1.0000 - val_loss: 2.1505 - val_acc: 0.6000\n",
      "Epoch 93/100\n",
      "3/3 [==============================] - 2s - loss: 2.2039e-04 - acc: 1.0000 - val_loss: 2.9400 - val_acc: 0.5600\n",
      "Epoch 94/100\n",
      "3/3 [==============================] - 2s - loss: 0.0026 - acc: 1.0000 - val_loss: 2.5216 - val_acc: 0.6800\n",
      "Epoch 95/100\n",
      "3/3 [==============================] - 2s - loss: 7.1804e-05 - acc: 1.0000 - val_loss: 2.0096 - val_acc: 0.6800\n",
      "Epoch 96/100\n",
      "3/3 [==============================] - 2s - loss: 0.0197 - acc: 1.0000 - val_loss: 2.4210 - val_acc: 0.6000\n",
      "Epoch 97/100\n",
      "3/3 [==============================] - 2s - loss: 2.0450e-04 - acc: 1.0000 - val_loss: 2.0567 - val_acc: 0.6800\n",
      "Epoch 98/100\n",
      "3/3 [==============================] - 2s - loss: 1.8160e-04 - acc: 1.0000 - val_loss: 2.7204 - val_acc: 0.6000\n",
      "Epoch 99/100\n",
      "3/3 [==============================] - 2s - loss: 8.5228e-04 - acc: 1.0000 - val_loss: 2.7776 - val_acc: 0.6000\n",
      "Epoch 100/100\n",
      "3/3 [==============================] - 2s - loss: 7.9029e-04 - acc: 1.0000 - val_loss: 2.2035 - val_acc: 0.6400\n"
     ]
    }
   ],
   "source": [
    "history = model.fit_generator(\n",
    "            train_generator,\n",
    "            steps_per_epoch=3,\n",
    "            epochs=100,\n",
    "            validation_data=test_generator,\n",
    "            nb_val_samples=5)"
   ]
  },
  {
   "cell_type": "code",
   "execution_count": 142,
   "metadata": {},
   "outputs": [],
   "source": [
    "model.save('cuckoo_and_sparrow_small_1.h5')"
   ]
  },
  {
   "cell_type": "code",
   "execution_count": 145,
   "metadata": {},
   "outputs": [
    {
     "data": {
      "image/png": "[encoded data removed]",
      "text/plain": [
       "<matplotlib.figure.Figure at 0x12615a128>"
      ]
     },
     "metadata": {},
     "output_type": "display_data"
    },
    {
     "data": {
      "image/png": "[encoded data removed]",
      "text/plain": [
       "<matplotlib.figure.Figure at 0x12602ff28>"
      ]
     },
     "metadata": {},
     "output_type": "display_data"
    }
   ],
   "source": [
    "acc =history.history['acc']\n",
    "val_acc = history.history['val_acc']\n",
    "loss = history.history['loss']\n",
    "val_loss = history.history['val_loss']\n",
    "\n",
    "epochs = range(1, len(acc) + 1)\n",
    "\n",
    "plt.plot(epochs, acc, 'r.', label='Training Accuracy')\n",
    "plt.plot(epochs, val_acc, 'b', label='Validation Accuracy')\n",
    "plt.title(\"Training and Validation Accuracy\")\n",
    "plt.legend()\n",
    "\n",
    "plt.figure()\n",
    "\n",
    "plt.plot(epochs, loss, 'r.', label='Training Loss')\n",
    "plt.plot(epochs, val_loss, 'b', label='Validation Loss')\n",
    "plt.title('Training and Validation Loss')\n",
    "plt.legend()\n",
    "plt.show()"
   ]
  },
  {
   "cell_type": "code",
   "execution_count": null,
   "metadata": {},
   "outputs": [],
   "source": []
  }
 ],
 "metadata": {
  "kernelspec": {
   "display_name": "Python 3",
   "language": "python",
   "name": "python3"
  },
  "language_info": {
   "codemirror_mode": {
    "name": "ipython",
    "version": 3
   },
   "file_extension": ".py",
   "mimetype": "text/x-python",
   "name": "python",
   "nbconvert_exporter": "python",
   "pygments_lexer": "ipython3",
   "version": "3.5.1"
  }
 },
 "nbformat": 4,
 "nbformat_minor": 2
}
